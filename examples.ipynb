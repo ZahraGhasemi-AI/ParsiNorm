{
 "cells": [
  {
   "cell_type": "code",
   "execution_count": 1,
   "id": "f04fa410",
   "metadata": {},
   "outputs": [],
   "source": [
    "import json,sys\n",
    "normalizer_path = './src/'\n",
    "sys.path.append(normalizer_path)"
   ]
  },
  {
   "cell_type": "code",
   "execution_count": 2,
   "id": "c64f7acc",
   "metadata": {},
   "outputs": [
    {
     "data": {
      "text/plain": [
       "'info at hara dot ai'"
      ]
     },
     "execution_count": 2,
     "metadata": {},
     "output_type": "execute_result"
    }
   ],
   "source": [
    "from mail_url_cleaner import mail_url_cleaner\n",
    "mail_url_cleaner = mail_url_cleaner()\n",
    "mail_url_cleaner.find_mails_clean(sentence=\"info@hara.ai\")"
   ]
  },
  {
   "cell_type": "code",
   "execution_count": 3,
   "id": "5960f56d",
   "metadata": {},
   "outputs": [
    {
     "data": {
      "text/plain": [
       "'https do noghte slash slash hara dot ai'"
      ]
     },
     "execution_count": 3,
     "metadata": {},
     "output_type": "execute_result"
    }
   ],
   "source": [
    "mail_url_cleaner.find_urls_clean(sentence=\"https://hara.ai/#services\")"
   ]
  },
  {
   "cell_type": "code",
   "execution_count": 4,
   "id": "b31dcb4e",
   "metadata": {},
   "outputs": [
    {
     "data": {
      "text/plain": [
       "'بیست و هفتم اکتبر دو هزار و بیست و یک'"
      ]
     },
     "execution_count": 4,
     "metadata": {},
     "output_type": "execute_result"
    }
   ],
   "source": [
    "from date_time_to_text import date_time_to_text\n",
    "date_time_to_text = date_time_to_text()\n",
    "date_time_to_text.date_to_text(sentence='2021/10/27')\n"
   ]
  },
  {
   "cell_type": "code",
   "execution_count": 5,
   "id": "5c1cc886",
   "metadata": {},
   "outputs": [
    {
     "data": {
      "text/plain": [
       "'بیست و دو و پنجاه و هفت دقیقه و  یازده ثانیه'"
      ]
     },
     "execution_count": 5,
     "metadata": {},
     "output_type": "execute_result"
    }
   ],
   "source": [
    "date_time_to_text.time_to_text(sentence='22:57:11')"
   ]
  },
  {
   "cell_type": "code",
   "execution_count": 6,
   "id": "6bd34ff3",
   "metadata": {},
   "outputs": [
    {
     "data": {
      "text/plain": [
       "'کودکی'"
      ]
     },
     "execution_count": 6,
     "metadata": {},
     "output_type": "execute_result"
    }
   ],
   "source": [
    "from general_normalization import general_normalization\n",
    "general_normalization = general_normalization()\n",
    "general_normalization.alphabet_correction(sentence='ﻙﯘݙݤﮮ')"
   ]
  },
  {
   "cell_type": "code",
   "execution_count": 7,
   "id": "d358dc4d",
   "metadata": {},
   "outputs": [
    {
     "data": {
      "text/plain": [
       "'کتابخانه'"
      ]
     },
     "execution_count": 7,
     "metadata": {},
     "output_type": "execute_result"
    }
   ],
   "source": [
    "general_normalization.semi_space_correction(sentence='کتاب\\u200bخانه')"
   ]
  },
  {
   "cell_type": "code",
   "execution_count": 8,
   "id": "5966db92",
   "metadata": {},
   "outputs": [
    {
     "data": {
      "text/plain": [
       "'naive'"
      ]
     },
     "execution_count": 8,
     "metadata": {},
     "output_type": "execute_result"
    }
   ],
   "source": [
    "general_normalization.english_correction(sentence='naïve')"
   ]
  },
  {
   "cell_type": "code",
   "execution_count": 9,
   "id": "1eb634ea",
   "metadata": {},
   "outputs": [
    {
     "data": {
      "text/plain": [
       "'\"'"
      ]
     },
     "execution_count": 9,
     "metadata": {},
     "output_type": "execute_result"
    }
   ],
   "source": [
    "general_normalization.html_correction(sentence='&quot;')"
   ]
  },
  {
   "cell_type": "code",
   "execution_count": 10,
   "id": "1d9af43f",
   "metadata": {},
   "outputs": [
    {
     "data": {
      "text/plain": [
       "'صلی الله علیه و سلم'"
      ]
     },
     "execution_count": 10,
     "metadata": {},
     "output_type": "execute_result"
    }
   ],
   "source": [
    "general_normalization.arabic_correction(sentence='ﷺ')"
   ]
  },
  {
   "cell_type": "code",
   "execution_count": 11,
   "id": "9b5517d9",
   "metadata": {},
   "outputs": [
    {
     "data": {
      "text/plain": [
       "'...'"
      ]
     },
     "execution_count": 11,
     "metadata": {},
     "output_type": "execute_result"
    }
   ],
   "source": [
    "general_normalization.punctuation_correction(sentence=\"…\")"
   ]
  },
  {
   "cell_type": "code",
   "execution_count": 12,
   "id": "03f8a1b7",
   "metadata": {},
   "outputs": [
    {
     "data": {
      "text/plain": [
       "'TEL'"
      ]
     },
     "execution_count": 12,
     "metadata": {},
     "output_type": "execute_result"
    }
   ],
   "source": [
    "general_normalization.specials_chars(sentence=\"℡\")"
   ]
  },
  {
   "cell_type": "code",
   "execution_count": 13,
   "id": "8b1d4371",
   "metadata": {},
   "outputs": [
    {
     "data": {
      "text/plain": [
       "''"
      ]
     },
     "execution_count": 13,
     "metadata": {},
     "output_type": "execute_result"
    }
   ],
   "source": [
    "general_normalization.remove_emojis(sentence='😊')"
   ]
  },
  {
   "cell_type": "code",
   "execution_count": 14,
   "id": "a253b9c2",
   "metadata": {},
   "outputs": [
    {
     "data": {
      "text/plain": [
       "'۱.۲'"
      ]
     },
     "execution_count": 14,
     "metadata": {},
     "output_type": "execute_result"
    }
   ],
   "source": [
    "general_normalization.unique_floating_point(sentence='1،2')"
   ]
  },
  {
   "cell_type": "code",
   "execution_count": 15,
   "id": "1b5623ac",
   "metadata": {},
   "outputs": [
    {
     "data": {
      "text/plain": [
       "'۱۲۳۴'"
      ]
     },
     "execution_count": 15,
     "metadata": {},
     "output_type": "execute_result"
    }
   ],
   "source": [
    "general_normalization.remove_comma_between_numbers(sentence='1٬234')"
   ]
  },
  {
   "cell_type": "code",
   "execution_count": 16,
   "id": "9cbcc849",
   "metadata": {},
   "outputs": [
    {
     "data": {
      "text/plain": [
       "'۵'"
      ]
     },
     "execution_count": 16,
     "metadata": {},
     "output_type": "execute_result"
    }
   ],
   "source": [
    "general_normalization.number_correction(sentence=\"⑤\")"
   ]
  },
  {
   "cell_type": "code",
   "execution_count": 17,
   "id": "f9ba0f0d",
   "metadata": {},
   "outputs": [
    {
     "data": {
      "text/plain": [
       "'  Hi  '"
      ]
     },
     "execution_count": 17,
     "metadata": {},
     "output_type": "execute_result"
    }
   ],
   "source": [
    "general_normalization.remove_not_desired_chars(sentence=\"^ Hi ~\")"
   ]
  },
  {
   "cell_type": "code",
   "execution_count": 18,
   "id": "9604094d",
   "metadata": {},
   "outputs": [
    {
     "data": {
      "text/plain": [
       "'!'"
      ]
     },
     "execution_count": 18,
     "metadata": {},
     "output_type": "execute_result"
    }
   ],
   "source": [
    "general_normalization.remove_repeated_punctuation(sentence=\"!!!!!\")"
   ]
  },
  {
   "cell_type": "code",
   "execution_count": 19,
   "id": "c81f9eea",
   "metadata": {},
   "outputs": [
    {
     "data": {
      "text/plain": [
       "'تلفن   صفر  بیست و یک سیصد و سی و چهار پنجاه و شش هفتصد و هشتاد و هشت'"
      ]
     },
     "execution_count": 19,
     "metadata": {},
     "output_type": "execute_result"
    }
   ],
   "source": [
    "from telephone_number import telephone_number\n",
    "telephone_number = telephone_number()\n",
    "telephone_number.find_phones_replace(sentence='تلفن ۰۲۱۳۳۴۵۶۷۸۸')"
   ]
  },
  {
   "cell_type": "code",
   "execution_count": 20,
   "id": "477c16b4",
   "metadata": {},
   "outputs": [
    {
     "data": {
      "text/plain": [
       "'در سال 1400 هجری شمسی'"
      ]
     },
     "execution_count": 20,
     "metadata": {},
     "output_type": "execute_result"
    }
   ],
   "source": [
    "from abbreviation import abbreviation\n",
    "abbreviation = abbreviation()\n",
    "abbreviation.replace_date_abbreviation(sentence=\"در سال 1400 ه.ش.\")"
   ]
  },
  {
   "cell_type": "code",
   "execution_count": 21,
   "id": "d226f132",
   "metadata": {},
   "outputs": [
    {
     "data": {
      "text/plain": [
       "'امام زمان  عجل الله تعالی فرجه الشریف '"
      ]
     },
     "execution_count": 21,
     "metadata": {},
     "output_type": "execute_result"
    }
   ],
   "source": [
    "abbreviation.replace_persian_label_abbreviation(sentence='امام زمان (عج)')"
   ]
  },
  {
   "cell_type": "code",
   "execution_count": 22,
   "id": "7a3adfb3",
   "metadata": {},
   "outputs": [
    {
     "data": {
      "text/plain": [
       "'در قانون اساسی آمده است'"
      ]
     },
     "execution_count": 22,
     "metadata": {},
     "output_type": "execute_result"
    }
   ],
   "source": [
    "abbreviation.replace_law_abbreviation(sentence='در ق.ا آمده است')"
   ]
  },
  {
   "cell_type": "code",
   "execution_count": 23,
   "id": "96258696",
   "metadata": {},
   "outputs": [
    {
     "data": {
      "text/plain": [
       "'به کتاب زیر رجوع کنید مراجعه کنید'"
      ]
     },
     "execution_count": 23,
     "metadata": {},
     "output_type": "execute_result"
    }
   ],
   "source": [
    "abbreviation.replace_book_abbreviation(sentence='به کتاب زیر ر.ک مراجعه کنید')"
   ]
  },
  {
   "cell_type": "code",
   "execution_count": 24,
   "id": "be7d335b",
   "metadata": {},
   "outputs": [
    {
     "data": {
      "text/plain": [
       "'در قانون جمهوری اسلامی آمده است'"
      ]
     },
     "execution_count": 24,
     "metadata": {},
     "output_type": "execute_result"
    }
   ],
   "source": [
    "abbreviation.replace_other_abbreviation(sentence='در قانون ج.ا آمده است')"
   ]
  },
  {
   "cell_type": "code",
   "execution_count": 25,
   "id": "870664e6",
   "metadata": {},
   "outputs": [
    {
     "data": {
      "text/plain": [
       "'یو اس آ '"
      ]
     },
     "execution_count": 25,
     "metadata": {},
     "output_type": "execute_result"
    }
   ],
   "source": [
    "abbreviation.replace_English_abbrevations(sentence='U.S.A')"
   ]
  },
  {
   "cell_type": "code",
   "execution_count": 26,
   "id": "6629dee1",
   "metadata": {},
   "outputs": [
    {
     "data": {
      "text/plain": [
       "'هفت هشتم'"
      ]
     },
     "execution_count": 26,
     "metadata": {},
     "output_type": "execute_result"
    }
   ],
   "source": [
    "from TTS_normalization import TTS_normalization\n",
    "TTS_normalization = TTS_normalization()\n",
    "TTS_normalization.math_correction(sentence='⅞')"
   ]
  },
  {
   "cell_type": "code",
   "execution_count": 27,
   "id": "b7afbdd7",
   "metadata": {},
   "outputs": [
    {
     "data": {
      "text/plain": [
       "'۳۳ دلار '"
      ]
     },
     "execution_count": 27,
     "metadata": {},
     "output_type": "execute_result"
    }
   ],
   "source": [
    "TTS_normalization.replace_currency(sentence='۳۳$')"
   ]
  },
  {
   "cell_type": "code",
   "execution_count": 28,
   "id": "79f8be85",
   "metadata": {},
   "outputs": [
    {
     "data": {
      "text/plain": [
       "'۳۳ درجه '"
      ]
     },
     "execution_count": 28,
     "metadata": {},
     "output_type": "execute_result"
    }
   ],
   "source": [
    "TTS_normalization.replace_symbols(sentence='۳۳°')"
   ]
  },
  {
   "cell_type": "code",
   "execution_count": 29,
   "id": "12c87efb",
   "metadata": {},
   "outputs": [
    {
     "data": {
      "text/plain": [
       "' صد و بیست و دو '"
      ]
     },
     "execution_count": 29,
     "metadata": {},
     "output_type": "execute_result"
    }
   ],
   "source": [
    "from special_numbers import special_numbers\n",
    "special_numbers = special_numbers()\n",
    "special_numbers.convert_numbers_to_text(sentence='122')"
   ]
  },
  {
   "cell_type": "code",
   "execution_count": 30,
   "id": "1949d7b6",
   "metadata": {},
   "outputs": [
    {
     "data": {
      "text/plain": [
       "'   صفر  چهل و نه   نهصد و سی و هفت   صفر  هشت   نود و نه '"
      ]
     },
     "execution_count": 30,
     "metadata": {},
     "output_type": "execute_result"
    }
   ],
   "source": [
    "special_numbers.replace_national_code(sentence='0499370899')"
   ]
  },
  {
   "cell_type": "code",
   "execution_count": 31,
   "id": "7a34787e",
   "metadata": {},
   "outputs": [
    {
     "data": {
      "text/plain": [
       "'   شصت   سی و هفت   هفتاد   شانزده   هشتاد و نه   صفر  نه   پنجاه و چهار   چهل و سه '"
      ]
     },
     "execution_count": 31,
     "metadata": {},
     "output_type": "execute_result"
    }
   ],
   "source": [
    "special_numbers.replace_card_number(sentence='6037701689095443')"
   ]
  },
  {
   "cell_type": "code",
   "execution_count": 32,
   "id": "fd8a6b04",
   "metadata": {},
   "outputs": [
    {
     "data": {
      "text/plain": [
       "' آی آر   هشتاد و دو   صفر  پنج   چهل   ده   بیست و شش   هشتاد   صفر  دو   صفر  هشت   هفده   نود   نود   صفر  دو '"
      ]
     },
     "execution_count": 32,
     "metadata": {},
     "output_type": "execute_result"
    }
   ],
   "source": [
    "special_numbers.replace_shaba(sentence='IR820540102680020817909002')"
   ]
  },
  {
   "cell_type": "code",
   "execution_count": 33,
   "id": "1070919d",
   "metadata": {},
   "outputs": [
    {
     "data": {
      "text/plain": [
       "['این مثالی است که در آن یک جمله فقط بر اساس علائم نگارشی جدا میشود .']"
      ]
     },
     "execution_count": 33,
     "metadata": {},
     "output_type": "execute_result"
    }
   ],
   "source": [
    "from Tokenizer import Tokenizer\n",
    "tokenizer = Tokenizer()\n",
    "tokenizer.sentence_tokenize('این مثالی است که در آن یک جمله فقط بر اساس علائم نگارشی جدا میشود.',verb_seperator= False)"
   ]
  },
  {
   "cell_type": "code",
   "execution_count": 34,
   "id": "5e05a0ed",
   "metadata": {},
   "outputs": [
    {
     "data": {
      "text/plain": [
       "['این مثالی است که در آن یک جمله فقط بر اساس علائم نگارشی جدا میشود .']"
      ]
     },
     "execution_count": 34,
     "metadata": {},
     "output_type": "execute_result"
    }
   ],
   "source": [
    "tokenizer.sentence_tokenize('این مثالی است که در آن یک جمله فقط بر اساس علائم نگارشی جدا میشود.',verb_seperator= False)"
   ]
  },
  {
   "cell_type": "code",
   "execution_count": 37,
   "id": "52e1f4a9",
   "metadata": {},
   "outputs": [
    {
     "data": {
      "text/plain": [
       "['می\\u200cتوانید',\n",
       " 'از',\n",
       " 'طریق',\n",
       " 'این',\n",
       " 'email',\n",
       " 'با',\n",
       " 'ما',\n",
       " 'در',\n",
       " 'ارتباط',\n",
       " 'باشید',\n",
       " ':',\n",
       " 'info@hara.ai',\n",
       " '.',\n",
       " 'همچنین',\n",
       " 'وبسایت',\n",
       " 'ما',\n",
       " 'https://hara.ai/',\n",
       " 'می\\u200cباشد']"
      ]
     },
     "execution_count": 37,
     "metadata": {},
     "output_type": "execute_result"
    }
   ],
   "source": [
    "tokenizer.word_tokenize('می‌توانید از طریق اینemail با ما در ارتباط باشید: info@hara.ai. همچنین وبسایت ما https://hara.ai/ می‌باشد ')"
   ]
  }
 ],
 "metadata": {
  "kernelspec": {
   "display_name": "Python 3",
   "language": "python",
   "name": "python3"
  },
  "language_info": {
   "codemirror_mode": {
    "name": "ipython",
    "version": 3
   },
   "file_extension": ".py",
   "mimetype": "text/x-python",
   "name": "python",
   "nbconvert_exporter": "python",
   "pygments_lexer": "ipython3",
   "version": "3.8.8"
  }
 },
 "nbformat": 4,
 "nbformat_minor": 5
}
