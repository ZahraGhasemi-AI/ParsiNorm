{
 "cells": [
  {
   "cell_type": "code",
   "execution_count": 115,
   "id": "c9ccd511",
   "metadata": {},
   "outputs": [],
   "source": [
    "from urlextract import URLExtract\n",
    "import re\n",
    "from tqdm import tqdm\n",
    "import pandas as pd\n",
    "import os"
   ]
  },
  {
   "cell_type": "code",
   "execution_count": 117,
   "id": "dc1d45f4",
   "metadata": {},
   "outputs": [],
   "source": [
    "def save(line, path):\n",
    "    with open(path, 'a') as file:\n",
    "        file.write(line + os.linesep)"
   ]
  },
  {
   "cell_type": "markdown",
   "id": "4c5b69a5",
   "metadata": {},
   "source": [
    "# finding URLs"
   ]
  },
  {
   "cell_type": "code",
   "execution_count": 68,
   "id": "33fda2e9",
   "metadata": {},
   "outputs": [],
   "source": [
    "mails_list = []\n",
    "urls_list = []\n",
    "extractor = URLExtract()\n",
    "def find_urls_emails(sentence):\n",
    "    urls = extractor.find_urls(sentence)\n",
    "    urls_list.extend(urls)\n",
    "    mails = re.findall(r\"[A-Za-z0-9\\.\\-+_]+@[A-Za-z0-9\\.\\-+_]+\\.[a-z]+\", sentence) \n",
    "    mails_list.extend(mails)"
   ]
  },
  {
   "cell_type": "code",
   "execution_count": null,
   "id": "337bd689",
   "metadata": {},
   "outputs": [
    {
     "name": "stderr",
     "output_type": "stream",
     "text": [
      "231460it [14:33, 308.04it/s]IOPub message rate exceeded.\n",
      "The notebook server will temporarily stop sending output\n",
      "to the client in order to avoid crashing it.\n",
      "To change this limit, set the config variable\n",
      "`--NotebookApp.iopub_msg_rate_limit`.\n",
      "\n",
      "Current values:\n",
      "NotebookApp.iopub_msg_rate_limit=1000.0 (msgs/sec)\n",
      "NotebookApp.rate_limit_window=3.0 (secs)\n",
      "\n",
      "510795it [32:28, 243.94it/s]IOPub message rate exceeded.\n",
      "The notebook server will temporarily stop sending output\n",
      "to the client in order to avoid crashing it.\n",
      "To change this limit, set the config variable\n",
      "`--NotebookApp.iopub_msg_rate_limit`.\n",
      "\n",
      "Current values:\n",
      "NotebookApp.iopub_msg_rate_limit=1000.0 (msgs/sec)\n",
      "NotebookApp.rate_limit_window=3.0 (secs)\n",
      "\n",
      "1112928it [1:10:43, 282.92it/s]"
     ]
    }
   ],
   "source": [
    "with open (\"/hdd4/callcenter_storage/data/Language_Model/raw/persian_raw_text/all_text_merged_cleaned.txt\", \"r\") as myfile:\n",
    "    for line in tqdm(myfile):\n",
    "        find_urls_emails(line)\n",
    "    "
   ]
  },
  {
   "cell_type": "markdown",
   "id": "f661d56e",
   "metadata": {},
   "source": [
    "# Mails"
   ]
  },
  {
   "cell_type": "code",
   "execution_count": 125,
   "id": "a0de4720",
   "metadata": {},
   "outputs": [],
   "source": [
    "unique_mails = set(mails_list)\n",
    "mails_after_reformat = []\n",
    "for mail in unique_mails:\n",
    "    mail = mail.replace(\".\", \" dot \")\n",
    "    mail = mail.replace(\"@\", \" at \")\n",
    "    mail = mail.replace(\"-\", \" dash \")\n",
    "    mail = mail.replace(\"_\", \" underline \")\n",
    "    mails_after_reformat.append(mail)\n",
    "#     print(mail)\n",
    "    "
   ]
  },
  {
   "cell_type": "code",
   "execution_count": 108,
   "id": "1844444b",
   "metadata": {},
   "outputs": [],
   "source": [
    "df_mails = pd.DataFrame(list(zip(unique_mails, mails_after_reformat)),columns=['mail', 'reformated'])"
   ]
  },
  {
   "cell_type": "code",
   "execution_count": 127,
   "id": "c059009b",
   "metadata": {},
   "outputs": [
    {
     "data": {
      "text/html": [
       "<div>\n",
       "<style scoped>\n",
       "    .dataframe tbody tr th:only-of-type {\n",
       "        vertical-align: middle;\n",
       "    }\n",
       "\n",
       "    .dataframe tbody tr th {\n",
       "        vertical-align: top;\n",
       "    }\n",
       "\n",
       "    .dataframe thead th {\n",
       "        text-align: right;\n",
       "    }\n",
       "</style>\n",
       "<table border=\"1\" class=\"dataframe\">\n",
       "  <thead>\n",
       "    <tr style=\"text-align: right;\">\n",
       "      <th></th>\n",
       "      <th>mail</th>\n",
       "      <th>reformated</th>\n",
       "    </tr>\n",
       "  </thead>\n",
       "  <tbody>\n",
       "    <tr>\n",
       "      <th>0</th>\n",
       "      <td>yeganwaz@mail.com</td>\n",
       "      <td>yeganwaz at mail dot com</td>\n",
       "    </tr>\n",
       "    <tr>\n",
       "      <th>1</th>\n",
       "      <td>info@sakhtafzarmag.com</td>\n",
       "      <td>info at sakhtafzarmag dot com</td>\n",
       "    </tr>\n",
       "    <tr>\n",
       "      <th>2</th>\n",
       "      <td>info@pubr-azmoon.com</td>\n",
       "      <td>info at pubr dash azmoon dot com</td>\n",
       "    </tr>\n",
       "    <tr>\n",
       "      <th>3</th>\n",
       "      <td>pr@bimcc.ir</td>\n",
       "      <td>pr at bimcc dot ir</td>\n",
       "    </tr>\n",
       "    <tr>\n",
       "      <th>4</th>\n",
       "      <td>farsamadizadeh@gmail.com</td>\n",
       "      <td>farsamadizadeh at gmail dot com</td>\n",
       "    </tr>\n",
       "    <tr>\n",
       "      <th>...</th>\n",
       "      <td>...</td>\n",
       "      <td>...</td>\n",
       "    </tr>\n",
       "    <tr>\n",
       "      <th>513</th>\n",
       "      <td>photo@apod.ir</td>\n",
       "      <td>photo at apod dot ir</td>\n",
       "    </tr>\n",
       "    <tr>\n",
       "      <th>514</th>\n",
       "      <td>education@msrt.ir</td>\n",
       "      <td>education at msrt dot ir</td>\n",
       "    </tr>\n",
       "    <tr>\n",
       "      <th>515</th>\n",
       "      <td>info@drasgharian.ir</td>\n",
       "      <td>info at drasgharian dot ir</td>\n",
       "    </tr>\n",
       "    <tr>\n",
       "      <th>516</th>\n",
       "      <td>festival@techmart.ir</td>\n",
       "      <td>festival at techmart dot ir</td>\n",
       "    </tr>\n",
       "    <tr>\n",
       "      <th>517</th>\n",
       "      <td>shahr_iari@yahoo.com</td>\n",
       "      <td>shahr underline iari at yahoo dot com</td>\n",
       "    </tr>\n",
       "  </tbody>\n",
       "</table>\n",
       "<p>518 rows × 2 columns</p>\n",
       "</div>"
      ],
      "text/plain": [
       "                         mail                             reformated\n",
       "0           yeganwaz@mail.com               yeganwaz at mail dot com\n",
       "1      info@sakhtafzarmag.com          info at sakhtafzarmag dot com\n",
       "2        info@pubr-azmoon.com       info at pubr dash azmoon dot com\n",
       "3                 pr@bimcc.ir                     pr at bimcc dot ir\n",
       "4    farsamadizadeh@gmail.com        farsamadizadeh at gmail dot com\n",
       "..                        ...                                    ...\n",
       "513             photo@apod.ir                   photo at apod dot ir\n",
       "514         education@msrt.ir               education at msrt dot ir\n",
       "515       info@drasgharian.ir             info at drasgharian dot ir\n",
       "516      festival@techmart.ir            festival at techmart dot ir\n",
       "517      shahr_iari@yahoo.com  shahr underline iari at yahoo dot com\n",
       "\n",
       "[518 rows x 2 columns]"
      ]
     },
     "execution_count": 127,
     "metadata": {},
     "output_type": "execute_result"
    }
   ],
   "source": [
    "df_mails"
   ]
  },
  {
   "cell_type": "code",
   "execution_count": 121,
   "id": "452f8702",
   "metadata": {},
   "outputs": [],
   "source": [
    "df_mails.to_csv(\"./mails_urls/mails.csv\")"
   ]
  },
  {
   "cell_type": "code",
   "execution_count": 122,
   "id": "9e94df3c",
   "metadata": {},
   "outputs": [],
   "source": [
    "for mail in mails_after_reformat:\n",
    "    save(mail, \"./mails_urls/mails.txt\")"
   ]
  },
  {
   "cell_type": "markdown",
   "id": "93854cfe",
   "metadata": {},
   "source": [
    "# URLS"
   ]
  },
  {
   "cell_type": "code",
   "execution_count": 126,
   "id": "aa336648",
   "metadata": {},
   "outputs": [],
   "source": [
    "unique_urls = set(urls_list)\n",
    "urls_after_reformat = []\n",
    "for url in unique_urls:\n",
    "    url = url.replace(\"://\", \" do noghte slash slash \")\n",
    "    url = url.replace(\".\", \" dot \")\n",
    "    url = url.split(\"/\")[0]\n",
    "    urls_after_reformat.append(url)\n",
    "#     print(url)\n",
    "    "
   ]
  },
  {
   "cell_type": "code",
   "execution_count": 111,
   "id": "698e0592",
   "metadata": {},
   "outputs": [],
   "source": [
    "df_urls = pd.DataFrame(list(zip(unique_urls, urls_after_reformat)),columns=['url', 'reformated'])"
   ]
  },
  {
   "cell_type": "code",
   "execution_count": 112,
   "id": "1836d5c4",
   "metadata": {},
   "outputs": [
    {
     "data": {
      "text/html": [
       "<div>\n",
       "<style scoped>\n",
       "    .dataframe tbody tr th:only-of-type {\n",
       "        vertical-align: middle;\n",
       "    }\n",
       "\n",
       "    .dataframe tbody tr th {\n",
       "        vertical-align: top;\n",
       "    }\n",
       "\n",
       "    .dataframe thead th {\n",
       "        text-align: right;\n",
       "    }\n",
       "</style>\n",
       "<table border=\"1\" class=\"dataframe\">\n",
       "  <thead>\n",
       "    <tr style=\"text-align: right;\">\n",
       "      <th></th>\n",
       "      <th>url</th>\n",
       "      <th>reformated</th>\n",
       "    </tr>\n",
       "  </thead>\n",
       "  <tbody>\n",
       "    <tr>\n",
       "      <th>0</th>\n",
       "      <td>nubia.com</td>\n",
       "      <td>nubia dot com</td>\n",
       "    </tr>\n",
       "    <tr>\n",
       "      <th>1</th>\n",
       "      <td>http://migna.ir/vdcfm0dj.w6dyvagiiw.html</td>\n",
       "      <td>http do noghte slash slash migna dot ir</td>\n",
       "    </tr>\n",
       "    <tr>\n",
       "      <th>2</th>\n",
       "      <td>http://www.ictna.ir/id/070154/</td>\n",
       "      <td>http do noghte slash slash www dot ictna dot ir</td>\n",
       "    </tr>\n",
       "    <tr>\n",
       "      <th>3</th>\n",
       "      <td>http://neconews.com/vdcbasbw.rhb5fpiuur.html</td>\n",
       "      <td>http do noghte slash slash neconews dot com</td>\n",
       "    </tr>\n",
       "    <tr>\n",
       "      <th>4</th>\n",
       "      <td>http://neconews.com/vdcfctde.w6dj0agiiw.html</td>\n",
       "      <td>http do noghte slash slash neconews dot com</td>\n",
       "    </tr>\n",
       "    <tr>\n",
       "      <th>...</th>\n",
       "      <td>...</td>\n",
       "      <td>...</td>\n",
       "    </tr>\n",
       "    <tr>\n",
       "      <th>30114</th>\n",
       "      <td>www.icdf.irfinance.ir</td>\n",
       "      <td>www dot icdf dot irfinance dot ir</td>\n",
       "    </tr>\n",
       "    <tr>\n",
       "      <th>30115</th>\n",
       "      <td>http://wpc.be1e.edgecastcdn.net/00BE1E/news/20...</td>\n",
       "      <td>http do noghte slash slash wpc dot be1e dot ed...</td>\n",
       "    </tr>\n",
       "    <tr>\n",
       "      <th>30116</th>\n",
       "      <td>http://migna.ir/vdcgqt9q.ak9n34prra.html</td>\n",
       "      <td>http do noghte slash slash migna dot ir</td>\n",
       "    </tr>\n",
       "    <tr>\n",
       "      <th>30117</th>\n",
       "      <td>http://migna.ir/vdcdfs0s.yt0nj6a22y.html</td>\n",
       "      <td>http do noghte slash slash migna dot ir</td>\n",
       "    </tr>\n",
       "    <tr>\n",
       "      <th>30118</th>\n",
       "      <td>http://rasanehiran.com/vdcguu9w.ak9qy4prra.html</td>\n",
       "      <td>http do noghte slash slash rasanehiran dot com</td>\n",
       "    </tr>\n",
       "  </tbody>\n",
       "</table>\n",
       "<p>30119 rows × 2 columns</p>\n",
       "</div>"
      ],
      "text/plain": [
       "                                                     url  \\\n",
       "0                                              nubia.com   \n",
       "1               http://migna.ir/vdcfm0dj.w6dyvagiiw.html   \n",
       "2                         http://www.ictna.ir/id/070154/   \n",
       "3           http://neconews.com/vdcbasbw.rhb5fpiuur.html   \n",
       "4           http://neconews.com/vdcfctde.w6dj0agiiw.html   \n",
       "...                                                  ...   \n",
       "30114                              www.icdf.irfinance.ir   \n",
       "30115  http://wpc.be1e.edgecastcdn.net/00BE1E/news/20...   \n",
       "30116           http://migna.ir/vdcgqt9q.ak9n34prra.html   \n",
       "30117           http://migna.ir/vdcdfs0s.yt0nj6a22y.html   \n",
       "30118    http://rasanehiran.com/vdcguu9w.ak9qy4prra.html   \n",
       "\n",
       "                                              reformated  \n",
       "0                                          nubia dot com  \n",
       "1                http do noghte slash slash migna dot ir  \n",
       "2        http do noghte slash slash www dot ictna dot ir  \n",
       "3            http do noghte slash slash neconews dot com  \n",
       "4            http do noghte slash slash neconews dot com  \n",
       "...                                                  ...  \n",
       "30114                  www dot icdf dot irfinance dot ir  \n",
       "30115  http do noghte slash slash wpc dot be1e dot ed...  \n",
       "30116            http do noghte slash slash migna dot ir  \n",
       "30117            http do noghte slash slash migna dot ir  \n",
       "30118     http do noghte slash slash rasanehiran dot com  \n",
       "\n",
       "[30119 rows x 2 columns]"
      ]
     },
     "execution_count": 112,
     "metadata": {},
     "output_type": "execute_result"
    }
   ],
   "source": [
    "df_urls"
   ]
  },
  {
   "cell_type": "code",
   "execution_count": 123,
   "id": "aea0d445",
   "metadata": {},
   "outputs": [],
   "source": [
    "df_urls.to_csv(\"./mails_urls/ulrs.csv\")"
   ]
  },
  {
   "cell_type": "code",
   "execution_count": 124,
   "id": "41eae142",
   "metadata": {},
   "outputs": [],
   "source": [
    "for url in urls_after_reformat:\n",
    "    save(url, \"./mails_urls/urls.txt\")"
   ]
  },
  {
   "cell_type": "markdown",
   "id": "14d14356",
   "metadata": {},
   "source": [
    "# Wrong Emails"
   ]
  },
  {
   "cell_type": "code",
   "execution_count": 56,
   "id": "b21f2049",
   "metadata": {},
   "outputs": [
    {
     "name": "stdout",
     "output_type": "stream",
     "text": [
      "(info@aims.\n",
      "arash@myblog\n",
      "smaa18@tmu.\n",
      "email@an.\n",
      "رایانامه(iwrj@sku.\n",
      "1080p@30fps\n",
      "EXTR@-TV\n",
      "Folding@home،\n",
      "(aseifi@behandish-co.\n",
      "(nano@iaug.\n",
      "paper@pac.\n",
      "Info@SSRC.\n",
      "info@rehab.\n",
      "(cpsl@che.\n",
      "1080@30fps,\n",
      "info@skums.\n",
      "Email:kutahya@icisleri.\n",
      "support@sun.\n",
      "Jazb@sku.\n",
      "itcenter@tums.\n",
      "User@Blog\n",
      "utequip@ut.\n",
      "آدرسatnatech@gmail.\n",
      "hosseini@hadith.\n",
      "‘@’\n",
      "\"@ladygaga\n",
      "«@لیدی\n",
      "info@peywand.\n",
      "الکترونیک(iwrj@sku.\n",
      "1080@30fps\n",
      "ایمیلForeigaffarairs@tursab.\n",
      "\"pl@yb0ys\"\n",
      "2160p@30fps\n",
      "arzyabi@nww.\n",
      "support@gsme.\n",
      "last@)\n",
      "الکترونیکی:info@sku.\n",
      "Melin@home\n",
      "yourusername@student.\n",
      "icme@tums.\n",
      "2160p@30fps,\n",
      "سحر‏@‏:ی\n",
      "(@sakhtafzarmag)\n",
      "ITFS@ITFS.\n",
      "sciwrite@tums.\n",
      "calendar@ut.\n",
      "Info@jdmarkazi.\n",
      "nemati@ut.\n",
      "H@/\\/\\ID\n",
      "480p@120fps\n",
      "E@I\n",
      "INFO@KIAGROUP.\n",
      "136@gio.\n",
      "info@irdci.\n",
      "gis@shomal.\n",
      "STU2009@ISME.\n",
      "ELCTRONIC3000@GMAIL.\n",
      "(info@newseek.\n",
      "1080p@60fps,\n",
      "atlasi-m@kaums.\n",
      "Esperanto@Interreto\n"
     ]
    }
   ],
   "source": [
    "for line in mails_list:\n",
    "    match = re.search(r\"[A-Za-z0-9\\.\\-+_]+@[A-Za-z0-9\\.\\-+_]+\\.[a-z]+\", line)\n",
    "    if match == None:\n",
    "        print(line)\n",
    "#         print(match.group(0))"
   ]
  }
 ],
 "metadata": {
  "kernelspec": {
   "display_name": "Python 3",
   "language": "python",
   "name": "python3"
  },
  "language_info": {
   "codemirror_mode": {
    "name": "ipython",
    "version": 3
   },
   "file_extension": ".py",
   "mimetype": "text/x-python",
   "name": "python",
   "nbconvert_exporter": "python",
   "pygments_lexer": "ipython3",
   "version": "3.6.9"
  }
 },
 "nbformat": 4,
 "nbformat_minor": 5
}
