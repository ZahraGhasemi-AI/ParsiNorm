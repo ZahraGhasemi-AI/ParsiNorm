{
 "cells": [
  {
   "cell_type": "code",
   "execution_count": 1,
   "id": "5d3b4fdf",
   "metadata": {},
   "outputs": [],
   "source": [
    "import random\n",
    "import argparse\n",
    "import string\n",
    "from hazm import POSTagger, Normalizer, word_tokenize\n",
    "import re\n",
    "from num2fawords import words, HUNDREDS\n",
    "import sys\n",
    "# sys.path.append(\"/hdd5/romina/bert/phonemizer/\")\n",
    "from get_phonetic import get_phonetic"
   ]
  },
  {
   "cell_type": "code",
   "execution_count": 2,
   "id": "7aacdb99",
   "metadata": {},
   "outputs": [],
   "source": [
    "tagger = POSTagger(model = \"/hdd4/callcenter_storage/models/phonemizer/\" + \"postagger.model\")\n",
    "normalizer = Normalizer()"
   ]
  },
  {
   "cell_type": "code",
   "execution_count": 3,
   "id": "573bae1a",
   "metadata": {},
   "outputs": [],
   "source": [
    "with open (\"/hdd4/callcenter_storage/data/Language_Model/raw/subtitle/opensubtitle.txt\", \"r\") as myfile:\n",
    "    data_subtitle = myfile.readlines()\n",
    "data_subtitle = [normalizer.normalize(sentence) for sentence in data_subtitle]"
   ]
  },
  {
   "cell_type": "code",
   "execution_count": 4,
   "id": "fd40aff3",
   "metadata": {},
   "outputs": [],
   "source": [
    "with open (\"/hdd4/callcenter_storage/data/Language_Model/raw/book/HarryPotter.txt\", \"r\") as myfile:\n",
    "    data_book = myfile.readlines()"
   ]
  },
  {
   "cell_type": "code",
   "execution_count": 5,
   "id": "ad7078ca",
   "metadata": {},
   "outputs": [],
   "source": [
    "with open (\"/hdd4/callcenter_storage/data/Language_Model/raw/covid/covid.txt\", \"r\") as myfile:\n",
    "    data_covid = myfile.readlines()"
   ]
  },
  {
   "cell_type": "code",
   "execution_count": 146,
   "id": "1da8183a",
   "metadata": {},
   "outputs": [],
   "source": [
    "with open (\"/hdd4/callcenter_storage/data/Language_Model/raw/persian_raw_text/all_text_merged_cleaned.txt\", \"r\") as myfile:\n",
    "    data_merged = myfile.readlines()"
   ]
  },
  {
   "cell_type": "code",
   "execution_count": 4,
   "id": "f11a26b3",
   "metadata": {},
   "outputs": [],
   "source": [
    "acceptable_characters = []"
   ]
  },
  {
   "cell_type": "code",
   "execution_count": 12,
   "id": "cbdfa0c7",
   "metadata": {},
   "outputs": [],
   "source": [
    "# len(data_covid)"
   ]
  },
  {
   "cell_type": "code",
   "execution_count": null,
   "id": "b0f077f5",
   "metadata": {},
   "outputs": [],
   "source": []
  },
  {
   "cell_type": "code",
   "execution_count": 6,
   "id": "146c0e73",
   "metadata": {},
   "outputs": [],
   "source": [
    "chars = set()\n",
    "for sentence in data_subtitle:\n",
    "    for character in normalizer.normalize(sentence):\n",
    "        chars.add(character)"
   ]
  },
  {
   "cell_type": "code",
   "execution_count": 43,
   "id": "6e063228",
   "metadata": {},
   "outputs": [],
   "source": [
    "English_digits = '0123456789'\n",
    "Persian_digits = '۰٠۱١۲٢۳٣۴٤۵٥۶٦۷٧۸٨۹٩'\n",
    "DesiredCharacter = \"[۰-۹ 0-9 آ-ی \\s، . ()!؟:]\"\n",
    "punctuation = list(set('،؟.!@_{}[]#$?؟.,:+\";*&^%)(=\\'\\\\/|' + '!@#$?.,:+\";*&^%)(=\\'\\\\/|«»–-_…' + '<>؟،؛٬;`~|'))"
   ]
  },
  {
   "cell_type": "code",
   "execution_count": 942,
   "id": "eb3aecd7",
   "metadata": {},
   "outputs": [
    {
     "name": "stdout",
     "output_type": "stream",
     "text": [
      "\n",
      " \n",
      "\n",
      "   \n",
      "! !\n",
      "\" \"\n",
      "# #\n",
      "$ $\n",
      "' '\n",
      "( (\n",
      ") )\n",
      "* *\n",
      "+ +\n",
      ", ,\n",
      "- -\n",
      ". .\n",
      "/ /\n",
      ": :\n",
      "; ;\n",
      "= =\n",
      "? ?\n",
      "@ @\n",
      "A A\n",
      "B B\n",
      "C C\n",
      "D D\n",
      "E E\n",
      "F F\n",
      "G G\n",
      "H H\n",
      "I I\n",
      "J J\n",
      "K K\n",
      "L L\n",
      "M M\n",
      "N N\n",
      "O O\n",
      "P P\n",
      "Q Q\n",
      "R R\n",
      "S S\n",
      "T T\n",
      "U U\n",
      "V V\n",
      "W W\n",
      "X X\n",
      "Y Y\n",
      "Z Z\n",
      "[ [\n",
      "\\ \\\n",
      "] ]\n",
      "^ ^\n",
      "_ _\n",
      "` `\n",
      "a a\n",
      "b b\n",
      "c c\n",
      "d d\n",
      "e e\n",
      "f f\n",
      "g g\n",
      "h h\n",
      "i i\n",
      "j j\n",
      "k k\n",
      "l l\n",
      "m m\n",
      "n n\n",
      "o o\n",
      "p p\n",
      "q q\n",
      "r r\n",
      "s s\n",
      "t t\n",
      "u u\n",
      "v v\n",
      "w w\n",
      "x x\n",
      "y y\n",
      "z z\n",
      "{ {\n",
      "| |\n",
      "} }\n",
      "~ ~\n",
      " \n",
      " \n",
      " \n",
      " \n",
      "¡ ¡\n",
      "¢ ¢\n",
      "£ £\n",
      "¤ ¤\n",
      "§ §\n",
      "¨ ¨\n",
      "© ©\n",
      "« «\n",
      "® ®\n",
      "¯ ¯\n",
      "° °\n",
      "´ ´\n",
      "¶ ¶\n",
      "· ·\n",
      "¹ ¹\n",
      "» »\n",
      "¼ ¼\n",
      "½ ½\n",
      "¿ ¿\n",
      "Â Â\n",
      "Ç Ç\n",
      "È È\n",
      "Ê Ê\n",
      "Ë Ë\n",
      "Ì Ì\n",
      "Í Í\n",
      "Î Î\n",
      "Ï Ï\n",
      "Ð Ð\n",
      "Ñ Ñ\n",
      "Ò Ò\n",
      "Ó Ó\n",
      "Ô Ô\n",
      "Õ Õ\n",
      "× ×\n",
      "Ø Ø\n",
      "Ù Ù\n",
      "Ú Ú\n",
      "Ý Ý\n",
      "Þ Þ\n",
      "à à\n",
      "á á\n",
      "â â\n",
      "ã ã\n",
      "ä ä\n",
      "å å\n",
      "æ æ\n",
      "ç ç\n",
      "è è\n",
      "é é\n",
      "ê ê\n",
      "ë ë\n",
      "í í\n",
      "î î\n",
      "ï ï\n",
      "ð ð\n",
      "ñ ñ\n",
      "ó ó\n",
      "ô ô\n",
      "ö ö\n",
      "÷ ÷\n",
      "ù ù\n",
      "û û\n",
      "ü ü\n",
      "ý ý\n",
      "ı ı\n",
      "Ŋ Ŋ\n",
      "ş ş\n",
      "Ʒ Ʒ\n",
      "Ƹ Ƹ\n",
      "˜ ˜\n",
      "̄ ̄\n",
      "̘ ̘\n",
      "̡ ̡\n",
      "̨ ̨\n",
      "̵ ̵\n",
      "Τ Τ\n",
      "ί ί\n",
      "α α\n",
      "ε ε\n",
      "ν ν\n",
      "ο ο\n",
      "π π\n",
      "υ υ\n",
      "Я Я\n",
      "Ӝ Ӝ\n",
      "، ،\n",
      "؛ ؛\n",
      "؟ ؟\n",
      "ء ء\n",
      "آ آ\n",
      "أ أ\n",
      "ؤ ؤ\n",
      "إ إ\n",
      "ئ ئ\n",
      "ا ا\n",
      "ب ب\n",
      "ة ة\n",
      "ت ت\n",
      "ث ث\n",
      "ج ج\n",
      "ح ح\n",
      "خ خ\n",
      "د د\n",
      "ذ ذ\n",
      "ر ر\n",
      "ز ز\n",
      "س س\n",
      "ش ش\n",
      "ص ص\n",
      "ض ض\n",
      "ط ط\n",
      "ظ ظ\n",
      "ع ع\n",
      "غ غ\n",
      "ف ف\n",
      "ق ق\n",
      "ل ل\n",
      "م م\n",
      "ن ن\n",
      "ه ه\n",
      "و و\n",
      "ى ى\n",
      "ٔ ٔ\n",
      "٠ ٠\n",
      "١ ١\n",
      "٢ ٢\n",
      "٣ ٣\n",
      "٤ ٤\n",
      "٥ ٥\n",
      "٦ ٦\n",
      "٧ ٧\n",
      "٨ ٨\n",
      "٩ ٩\n",
      "٪ ٪\n",
      "٫ ٫\n",
      "٬ ٬\n",
      "ٰ ٰ\n",
      "ٱ ٱ\n",
      "ٹ ٹ\n",
      "پ پ\n",
      "چ چ\n",
      "ژ ژ\n",
      "ک ک\n",
      "گ گ\n",
      "ھ ھ\n",
      "ۀ ۀ\n",
      "ہ ہ\n",
      "ی ی\n",
      "۰ ۰\n",
      "۱ ۱\n",
      "۲ ۲\n",
      "۳ ۳\n",
      "۴ ۴\n",
      "۵ ۵\n",
      "۶ ۶\n",
      "۷ ۷\n",
      "۸ ۸\n",
      "۹ ۹\n",
      "​ ​\n",
      "‌ ‌\n",
      "‍ ‍\n",
      "‎ ‎\n",
      "‏ ‏\n",
      "– –\n",
      "— —\n",
      "• •\n",
      "… …\n",
      "‪ ‪\n",
      "‫ ‫\n",
      "‬ ‬\n",
      "‮ ‮\n",
      "€ €\n",
      "™ ™\n",
      "∞ ∞\n",
      "◊ ◊\n",
      "☆ ☆\n",
      "☺ ☺\n",
      "☻ ☻\n",
      "♥ ♥\n",
      "♪ ♪\n",
      "♫ ♫\n",
      "♬ ♬\n",
      "♯ ♯\n",
      " \n",
      "ﬂ ﬂ\n",
      "ﺘ ﺘ\n",
      "ﺪ ﺪ\n",
      "ﺮ ﺮ\n",
      "ﺴ ﺴ\n",
      "ﻧ ﻧ\n",
      "� �\n"
     ]
    }
   ],
   "source": [
    "chars = sorted(chars)\n",
    "persian_chars = []\n",
    "for char in chars:\n",
    "        print(normalizer.normalize(char),char)\n",
    "#         print(normalizer.normalize(char) == char)\n",
    "    "
   ]
  },
  {
   "cell_type": "code",
   "execution_count": 8,
   "id": "3760c3ae",
   "metadata": {},
   "outputs": [
    {
     "data": {
      "text/plain": [
       "'abcdefghijklmnopqrstuvwxyz'"
      ]
     },
     "execution_count": 8,
     "metadata": {},
     "output_type": "execute_result"
    }
   ],
   "source": [
    "import string\n",
    "string.ascii_uppercase\n",
    "string.ascii_lowercase"
   ]
  },
  {
   "cell_type": "code",
   "execution_count": 9,
   "id": "6999b873",
   "metadata": {},
   "outputs": [
    {
     "data": {
      "text/plain": [
       "'ء'"
      ]
     },
     "execution_count": 9,
     "metadata": {},
     "output_type": "execute_result"
    }
   ],
   "source": [
    "chars[175]"
   ]
  },
  {
   "cell_type": "code",
   "execution_count": 10,
   "id": "1713b323",
   "metadata": {},
   "outputs": [
    {
     "data": {
      "text/plain": [
       "'پ'"
      ]
     },
     "execution_count": 10,
     "metadata": {},
     "output_type": "execute_result"
    }
   ],
   "source": [
    "chars[226]"
   ]
  },
  {
   "cell_type": "code",
   "execution_count": 11,
   "id": "75785dc6",
   "metadata": {},
   "outputs": [
    {
     "name": "stdout",
     "output_type": "stream",
     "text": [
      "{\n",
      "|\n",
      "}\n",
      "~\n",
      "\n",
      "\n",
      "\n",
      "\n",
      "¡\n",
      "¢\n",
      "£\n",
      "¤\n"
     ]
    }
   ],
   "source": [
    "for i in range(78, 90):\n",
    "    print(chars[i])\n",
    "#     print(chars[i].encode(\"unicode_escape\"))"
   ]
  },
  {
   "cell_type": "code",
   "execution_count": 13,
   "id": "8f4a5b07",
   "metadata": {},
   "outputs": [],
   "source": [
    "acceptable_characters = []\n",
    "punctuations = []"
   ]
  },
  {
   "cell_type": "code",
   "execution_count": 14,
   "id": "4db579dc",
   "metadata": {},
   "outputs": [
    {
     "name": "stdout",
     "output_type": "stream",
     "text": [
      "ﺘ\n",
      "ﺪ\n",
      "ﺮ\n",
      "ﺴ\n",
      "ﻧ\n"
     ]
    }
   ],
   "source": [
    "for i in range(272,277):\n",
    "    acceptable_characters.append(chars[i])\n",
    "    print(chars[i])"
   ]
  },
  {
   "cell_type": "code",
   "execution_count": 15,
   "id": "b3ccf214",
   "metadata": {},
   "outputs": [],
   "source": [
    "for i in range(175,210):\n",
    "    acceptable_characters.append(chars[i])\n",
    "#     print(chars[i])"
   ]
  },
  {
   "cell_type": "code",
   "execution_count": 16,
   "id": "e43f1d47",
   "metadata": {},
   "outputs": [],
   "source": [
    "for i in range(210,220):\n",
    "    acceptable_characters.append(chars[i])\n",
    "#     print(chars[i])"
   ]
  },
  {
   "cell_type": "code",
   "execution_count": 17,
   "id": "2dd558a8",
   "metadata": {},
   "outputs": [],
   "source": [
    "for i in range(2, 20):\n",
    "    punctuations.append(chars[i])\n",
    "#     print(chars[i])"
   ]
  },
  {
   "cell_type": "code",
   "execution_count": 18,
   "id": "0992f470",
   "metadata": {},
   "outputs": [],
   "source": [
    "for i in range(46, 52):\n",
    "    punctuations.append(chars[i])\n",
    "#     print(chars[i])"
   ]
  },
  {
   "cell_type": "code",
   "execution_count": 19,
   "id": "91ee7cdf",
   "metadata": {},
   "outputs": [
    {
     "name": "stdout",
     "output_type": "stream",
     "text": [
      "نکنه این رفتار، اثر جانبی اﻧﺪاﻧﺴﺘﺮون نباشه؟ \n",
      "\n"
     ]
    }
   ],
   "source": [
    "for sen in data_subtitle:\n",
    "    if \"ﺴ\" in sen:\n",
    "        wierd_sentence = sen\n",
    "        print(sen)\n",
    "        "
   ]
  },
  {
   "cell_type": "code",
   "execution_count": 68,
   "id": "35e757d3",
   "metadata": {},
   "outputs": [
    {
     "name": "stdout",
     "output_type": "stream",
     "text": [
      " \n",
      " \n"
     ]
    }
   ],
   "source": [
    "text, phonetic = get_phonetic(\"\")\n",
    "print(text)\n",
    "print(phonetic)"
   ]
  },
  {
   "cell_type": "code",
   "execution_count": 50,
   "id": "28267746",
   "metadata": {},
   "outputs": [
    {
     "data": {
      "text/plain": [
       "' آرأی'"
      ]
     },
     "execution_count": 50,
     "metadata": {},
     "output_type": "execute_result"
    }
   ],
   "source": [
    "line=\" آرأی\"\n",
    "aleph = {}\n",
    "al_char=\"ا\"\n",
    "for character in aleph:\n",
    "    line = line.replace(character, al_char)\n",
    "line"
   ]
  },
  {
   "cell_type": "code",
   "execution_count": 926,
   "id": "d3a1df96",
   "metadata": {},
   "outputs": [],
   "source": [
    "line = \"ښ ڛ ﺱ ﺲ ﺳ ﺴ\""
   ]
  },
  {
   "cell_type": "code",
   "execution_count": 931,
   "id": "2ead88f5",
   "metadata": {},
   "outputs": [
    {
     "data": {
      "text/plain": [
       "'س س س س س س'"
      ]
     },
     "execution_count": 931,
     "metadata": {},
     "output_type": "execute_result"
    }
   ],
   "source": [
    "persian_alphabet_replaces={\n",
    "    'آ':['ﺁ', 'ﺂ'],\n",
    "    'ا':['ﺍ', 'ﺎ', 'ٲ', 'ٵ', 'ﭐ', 'ﭑ', 'ﺃ', 'ﺄ', 'ٳ', 'ﺇ', 'ﺈ', 'إ', 'أ', 'ꙇ'],\n",
    "    \"ب\":['ٮ',  'ٻ',  'ڀ',  'ݐ',  'ݒ',  'ݔ',  'ݕ',  'ݖ',  'ﭒ',  'ﭓ',  'ﭔ',  'ﭕ',  'ﺏ',  'ﺐ',  'ﺑ',  'ﺒ'],\n",
    "    \"پ\":['ﭖ',  'ﭗ',  'ﭘ',  'ﭙ',  'ﭚ',  'ﭛ',  'ﭜ',  'ﭝ'],\n",
    "    \"ت\":['ٹ',  'ٺ',  'ټ',  'ٿ',  'ݓ',  'ﭞ',  'ﭟ',  'ﭠ',  'ﭡ',  'ﭦ',  'ﭧ',  'ﭨ',  'ﭩ',  'ﺕ',  'ﺖ',  'ﺗ',  'ﺘ'],\n",
    "    \"ث\":['ٽ',  'ݑ',  'ﺙ',  'ﺚ',  'ﺛ',  'ﺜ',  'ﭢ',  'ﭣ',  'ﭤ',  'ﭥ'],\n",
    "    \"ج\":['ڃ', 'ڄ', 'ﭲ', 'ﭳ', 'ﭴ', 'ﭵ', 'ﭶ', 'ﭷ', 'ﭸ', 'ﭹ', 'ﺝ', 'ﺞ', 'ﺟ', 'ﺠ'],\n",
    "    \"چ\":['ڇ',  'ڿ',  'ﭺ',  'ﭻ',  'ݘ',  'ﭼ',  'ﭽ',  'ﭾ',  'ﭿ',  'ﮀ',  'ﮁ',  'ݯ'],\n",
    "    \"ح\":['ځ', 'ڂ', 'څ', 'ݗ', 'ݮ', 'ﺡ', 'ﺢ', 'ﺣ', 'ﺤ'],\n",
    "    \"خ\":['ﺥ', 'ﺦ', 'ﺧ', 'ﺨ'],\n",
    "    \"د\":['ڈ', 'ډ', 'ڊ', 'ڋ', 'ڍ', 'ۮ', 'ݙ', 'ݚ', 'ﮂ', 'ﮃ', 'ﮄ', 'ﮈ', 'ﮉ', 'ﺩ', 'ﺪ'],\n",
    "    \"ذ\":['ڌ', 'ﱛ', 'ﺫ', 'ﺬ', 'ڎ', 'ڏ', 'ڐ', 'ﮅ', 'ﮆ', 'ﮇ'],\n",
    "    \"ر\":['ڑ', 'ڒ', 'ړ', 'ڔ', 'ڕ', 'ږ', 'ۯ', 'ݛ', 'ﮌ', 'ﮍ', 'ﱜ', 'ﺭ', 'ﺮ'],\n",
    "    \"ز\":['ڗ', 'ݫ', 'ݬ', 'ﺯ', 'ﺰ'],\n",
    "    \"ژ\":['ڙ',  'ﮊ',  'ﮋ'],\n",
    "    \"س\":['ښ', 'ڛ', 'ﺱ', 'ﺲ', 'ﺳ', 'ﺴ'],\n",
    "    \"ش\":['ڜ', 'ۺ', 'ﺵ', 'ﺶ', 'ﺷ', 'ﺸ', 'ݜ', 'ݭ'],\n",
    "    \"ص\":['ڝ', 'ڞ', 'ﺹ', 'ﺺ', 'ﺻ', 'ﺼ'],\n",
    "    \"ض\":['ۻ', 'ﺽ', 'ﺾ', 'ﺿ', 'ﻀ'],\n",
    "    \"ط\":['ﻁ', 'ﻂ', 'ﻃ', 'ﻄ'],\n",
    "    \"ظ\":['ﻅ', 'ﻆ', 'ﻇ', 'ﻈ', 'ڟ'],\n",
    "    \"ع\":['ڠ', 'ݝ', 'ݞ', 'ݟ', 'ﻉ', 'ﻊ', 'ﻋ', 'ﻌ'],\n",
    "    \"غ\":['ۼ', 'ﻍ', 'ﻎ', 'ﻏ', 'ﻐ'],\n",
    "    \"ف\":['ڡ',  'ڢ',  'ڣ',  'ڤ',  'ڥ',  'ڦ',  'ݠ',  'ݡ',  'ﭪ',  'ﭫ',  'ﭬ',  'ﭭ',  'ﭮ',  'ﭯ',  'ﭰ',  'ﭱ',  'ﻑ',  'ﻒ',  'ﻓ',  'ﻔ',  'ᓅ'],\n",
    "    \"ق\":['ٯ', 'ڧ', 'ڨ', 'ﻕ', 'ﻖ', 'ﻗ', 'ﻘ'],\n",
    "    \"ک\":['ك',  'ػ',  'ؼ',  'ڪ',  'ګ',  'ڬ',  'ڭ',  'ڮ',  'ݢ',  'ݣ',  'ݤ',  'ﮎ',  'ﮏ',  'ﮐ',  'ﮑ',  'ﯓ',  'ﯔ',  'ﯕ',  'ﯖ',  'ﻙ',  'ﻚ',  'ﻛ',  'ﻜ'],\n",
    "    \"گ\":['ڰ',  'ڱ',  'ڲ',  'ڳ',  'ڴ',  'ﮒ',  'ﮓ',  'ﮔ',  'ﮕ',  'ﮖ',  'ﮗ',  'ﮘ',  'ﮙ',  'ﮚ',  'ﮛ',  'ﮜ',  'ﮝ'],\n",
    "    \"ل\":['ڵ', 'ڶ', 'ڷ', 'ڸ', 'ݪ', 'ﻝ', 'ﻞ', 'ﻟ', 'ﻠ'],\n",
    "    \"م\":['۾', 'ݥ', 'ݦ', 'ﻡ', 'ﻢ', 'ﻣ', 'ﻤ'],\n",
    "    \"ن\":['ڹ',  'ں',  'ڻ',  'ڼ',  'ڽ',  'ݧ',  'ݨ',  'ݩ',  'ﮞ',  'ﮟ',  'ﮠ',  'ﮡ',  'ﮢ',  'ﮣ',  'ﻥ',  'ﻦ',  'ﻧ',  'ﻨ'],\n",
    "    \"و\":['ٶ',  'ٷ',  'ﯗ',  'ﯘ',  'ﯙ',  'ﯚ',  'ﯛ',  'ﯜ',  'ﯝ',  'ﯞ',  'ﯟ',  'ﺅ',  'ﺆ',  'ۄ',  'ۅ',  'ۆ',  'ۇ',  'ۈ',  'ۉ',  'ۊ',  'ۋ',  'ۏ',  'ﯠ',  'ﯡ',  'ﯢ',  'ﯣ',  'ﻭ',  'ﻮ',  'ؤ',  'פ'],\n",
    "    \"ه\":['ھ',  'ۿ',  'ۀ',  'ہ',  'ۂ',  'ۃ',  'ە',  'ﮤ',  'ﮥ',  'ﮦ',  'ﮧ',  'ﮨ',  'ﮩ',  'ﮪ',  'ﮫ',  'ﮬ',  'ﮭ',  'ﺓ',  'ﺔ',  'ﻩ',  'ﻪ',  'ﻫ',  'ﻬ',  'ة'],\n",
    "    \"ی\":['ؠ',  'ؽ',  'ؾ',  'ؿ',  'ى',  'ي',  'ٸ',  'ۍ',  'ێ',  'ې',  'ۑ',  'ے',  'ۓ',  'ﮮ',  'ﮯ',  'ﮰ',  'ﮱ',  'ﯤ',  'ﯥ',  'ﯦ',  'ﯧ',  'ﯼ',  'ﯽ',  'ﯾ',  'ﯿ',  'ﻯ',  'ﻰ',  'ﻱ',  'ﻲ',  'ﻳ',  'ﻴ',  'ﯨ',  'ﯩ',  'ﯪ',  'ﯫ',  'ﯬ',  'ﯭ',  'ﯮ',  'ﯯ',  'ﯰ',  'ﯱ',  'ﯲ',  'ﯳ',  'ﯴ',  'ﯵ',  'ﯶ',  'ﯷ',  'ﯸ',  'ﯹ',  'ﯺ',  'ﯻ',  'ﱝ',  'ﺉ',  'ﺊ',  'ﺋ',  'ﺌ',  'ئ'],\n",
    "    }\n",
    "for correct_form, wrong_forms in persian_alphabet_replaces.items():\n",
    "    for wrong_character in wrong_forms:\n",
    "        line = line.replace(wrong_character, correct_form)\n",
    "line"
   ]
  },
  {
   "cell_type": "code",
   "execution_count": 934,
   "id": "ab600e97",
   "metadata": {},
   "outputs": [
    {
     "data": {
      "text/plain": [
       "'f'"
      ]
     },
     "execution_count": 934,
     "metadata": {},
     "output_type": "execute_result"
    }
   ],
   "source": [
    "english_alphabet_replaces={\n",
    "    \"A\":['д',  'Ⓐ',  'ᗩ',  'Ά',  'Α',  'Ἀ',  'Ἁ',  'Ἂ',  'Ἃ',  'Ἄ',  'Ἅ',  'Ἆ',  'Ἇ',  'ᾈ',  'ᾉ',  'ᾊ',  'ᾋ',  'ᾌ',  'ᾍ',  'ᾎ',  'ᾏ',  'Ᾰ',  'Ᾱ',  'Ὰ',  'Ά',  'ᾼ',  'А',  'Ӑ',  'Ӓ',  'À',  'Á',  'Â',  'Ã',  'Ä',  'Å',  'Ā',  'Ă',  'Ą',  'Ǎ',  'Ǟ',  'Ǡ',  'Å',  'Ǻ',  'Ȁ',  'Ȃ',  'Ȧ',  'Ⱥ',  'ᴀ'],\n",
    "    \"B\":['Β', 'В', 'в', 'Ɓ', 'Ƀ', 'ᴃ', 'ß'],\n",
    "    \"C\":['Ϲ', 'С', 'Ç', 'Ć', 'Ĉ', 'Ċ', 'Č', 'Ƈ', 'Ȼ'],\n",
    "    \"D\":['Ð', 'Ď', 'Đ', 'Ɖ', 'Ɗ', 'ᴅ', 'ᴆ'],\n",
    "    \"E\":['Έ', 'Ε', 'Ἐ', 'Ἑ', 'Ἒ', 'Ἓ', 'Ἔ', 'Ἕ', 'Ὲ', 'Έ', 'Ѐ', 'Ё', 'Ӗ', 'Е', 'È', 'É', 'Ê', 'Ë', 'Ē', 'Ĕ', 'Ė', 'Ę', 'Ě', 'Ȅ', 'Ȇ', 'Ȩ', 'Ɇ', 'ᴇ', 'ε', 'Ⓔ'],\n",
    "    \"F\":['ᖴ', 'Ϝ', '₣'],\n",
    "    \"G\":['Ԍ', 'Ĝ', 'Ğ', 'Ġ', 'Ģ', 'Ɠ', 'Ǧ', 'Ǵ', 'ɢ', 'ʛ'],\n",
    "    \"H\":['ℋ', 'Ή', 'Η', 'Ἠ', 'Ἡ', 'Ἢ', 'Ἣ', 'Ἤ', 'Ἥ', 'Ἦ', 'Ἧ', 'ᾘ', 'ᾙ', 'ᾚ', 'ᾛ', 'ᾜ', 'ᾝ', 'ᾞ', 'ᾟ', 'Ὴ', 'Ή', 'ῌ', 'Ĥ', 'Ħ', 'Ȟ', 'ʜ', 'Ⱨ', 'み', 'Н', 'н', 'Ⓗ'],\n",
    "    \"I\":['Ί', 'Ι', 'Ϊ', 'Ἰ', 'Ἱ', 'Ἲ', 'Ἳ', 'Ἴ', 'Ἵ', 'Ἶ', 'Ἷ', 'Ῐ', 'Ῑ', 'Ὶ', 'Ί', 'Ì', 'Í', 'Î', 'Ï', 'Ĩ', 'Ī', 'Ĭ', 'Į', 'İ', 'Ɨ', 'Ǐ', 'Ȉ', 'Ȋ', 'ɪ', 'Ⓘ'],\n",
    "    \"J\":['ᴊ', 'Ĵ', 'ȷ', 'Ɉ'],\n",
    "    \"K\":['к', 'Ǩ', 'ᴋ', 'Ⱪ', 'Ⓚ', '₭', 'Κ', 'К', 'ќ', 'Ԟ', 'ԟ', 'Қ', 'қ', 'Ҝ', 'ҝ', 'Ҟ', 'Ҡ', 'ҡ', 'Ķ', 'ĸ', 'Ƙ'],\n",
    "    \"L\":['ʟ', 'ᴌ', 'Ⱡ', 'Ɫ', 'Ĺ', 'Ļ', 'Ľ', 'Ŀ', 'Ł', 'Ƚ', 'ℒ', 'Ⓛ'],\n",
    "    \"M\":['ᴍ', 'м', 'Ɱ', 'ℳ', 'ᗰ', '₥', 'Μ', 'Ϻ', 'М', 'ʍ', 'Ⓜ'],\n",
    "    \"N\":['Ν', 'Ñ', 'Ń', 'Ņ', 'Ň', 'Ǹ', 'Ⓝ'],\n",
    "    \"O\":['ଠ', 'Ό', 'Ὀ', 'Ὁ', 'Ὂ', 'Ὃ', 'Ὄ', 'Ὅ', 'Ὸ', 'Ό', 'О', 'Ò', 'Ó', 'Ô', 'Õ', 'Ö', 'Ō', 'Ŏ', 'Ő', 'Ơ', 'Ǒ', 'Ǫ', 'Ǭ', 'Ȍ', 'Ȏ', 'Ȫ', 'Ȭ', 'Ȯ', 'Ȱ', 'Ⓞ'],\n",
    "    \"P\":['ᴘ', 'Ᵽ', 'Ρ', 'Р', 'Ҏ', 'ҏ', 'Ƥ'],\n",
    "    \"Q\":['Ԛ'],\n",
    "    \"R\":['ᴿ', 'Ŕ', 'Ŗ', 'Ř', 'Ʀ', 'Ȑ', 'Ȓ', 'Ɍ', 'ʀ', 'Ɽ', 'Я', 'Ⓡ'],\n",
    "    \"S\":['Ѕ', 'Ś', 'Ŝ', 'Ş', 'Š', 'Ș', 'Ȿ', 'ⓢ', 'Ⓢ'],\n",
    "    \"T\":['т', 'Ꭲ', 'Τ', 'Т', 'Ꚑ', 'ꚑ', 'Ţ', 'Ť', 'Ŧ', 'Ƭ', 'Ʈ', 'Ț', 'Ⱦ', 'ᴛ', 'Ⓣ'],\n",
    "    \"U\":['ᵁ', 'Ù', 'Ú', 'Û', 'Ü', 'Ũ', 'Ū', 'Ŭ', 'Ů', 'Ű', 'Ų', 'Ư', 'Ǔ', 'Ǖ', 'Ǘ', 'Ǚ', 'Ǜ', 'Ȕ', 'Ȗ', 'Ʉ', 'ᴜ', 'Ⓤ'],\n",
    "    \"V\":['ᴠ', 'Ⓥ'],\n",
    "    \"W\":['ᴡ', 'Ѡ', 'Ԝ', 'Ŵ', 'Ⱳ', '￦'],\n",
    "    \"X\":['х', 'Χ', 'Х'],\n",
    "    \"Y\":['ʏ', 'Ȳ', 'Ɏ', 'Ƴ', 'Ÿ', 'Ŷ', '￥', 'Ý', 'Ύ', 'Ῠ', 'Ὗ', 'Ὕ', 'Ὓ', 'Ὑ', 'Ϋ', 'Υ', 'Ύ', 'Ⓨ'],\n",
    "    \"Z\":['ᴢ', 'ꙃ', 'ꙁ', 'Ⱬ', 'Ɀ', 'Ź', 'Ż', 'Ž', 'Ƶ', 'Ȥ', 'Ꙃ', 'Ζ', 'Ꙁ'],\n",
    "    \"a\":['ά', 'ａ', 'а', 'ⓐ', 'à', 'á', 'â', 'ã', 'ä', 'å', 'ā', 'ă', 'ą', 'ǎ', 'ǟ', 'ǡ', 'ǻ', 'ȁ', 'ȃ', 'ȧ', 'ⱥ', 'α', 'ɑ', '⒜'],\n",
    "    \"b\":['ｂ', 'Ь', 'ь', 'ƀ', 'Ƅ', 'ƅ', 'ɓ', 'ҍ', 'ც', 'ⓑ', '⒝'],\n",
    "    \"c\":['ｃ', 'с', 'ç', 'ć', 'ĉ', 'ċ', 'č', 'ƈ', 'ȼ', 'ɕ', 'ς', 'ᴄ', '⒞'],\n",
    "    \"d\":['ｄ', 'ԁ', 'ď', 'đ', 'ȡ', 'ɖ', 'ɗ', 'ⓓ', '⒟'],\n",
    "    \"e\":['ｅ', 'ℯ', 'ᴱ', 'е', 'ѐ', 'ё', 'è', 'é', 'ê', 'ë', 'ē', 'ĕ', 'ė', 'ę', 'ě', 'ȅ', 'ȇ', 'ȩ', 'ɇ', 'ⱸ', 'ⓔ', '⒠'],\n",
    "    \"f\":['ᶠ', 'ƒ', 'ɟ', 'ⓕ', '⒡'],\n",
    "    \"g\":['ｇ', 'ĝ', 'ğ', 'ġ', 'ģ', 'ǧ', 'ǵ', 'ɠ', 'ɡ', 'ყ', 'ⓖ', '⒢'],\n",
    "    \"h\":['ｈ', 'Ԧ', 'ԧ', 'ĥ', 'ħ', 'ȟ', 'ɦ', 'ℎ', 'ℏ', 'ⱨ', 'ⓗ', '⒣'],\n",
    "    \"i\":['ℹ', 'ｉ', 'ΐ', 'ί', 'ι', 'ϊ', 'ἰ', 'ἱ', 'ἲ', 'ἳ', 'ἴ', 'ἵ', 'ἶ', 'ἷ', 'ὶ', 'ί', 'ῐ', 'ῑ', 'ῒ', 'ΐ', 'ῖ', 'ῗ', 'і', 'ї', 'ì', 'í', 'î', 'ï', 'ĩ', 'ī', 'ĭ', 'į', 'ǐ', 'ȉ', 'ȋ', 'ɉ', 'ɨ', '¡', 'ⓘ', '⒤'],\n",
    "    \"j\":['ϳ', 'ј', 'ĵ', 'ǰ', 'ʝ', 'ⓙ', '⒥'],\n",
    "    \"k\":['ʞ', 'κ', 'ķ', 'ҟ', 'ƙ', 'ǩ', 'ⱪ', '⒦'],\n",
    "    \"l\":['ｌ', 'ᴸ', 'ĺ', 'ļ', 'ľ', 'ŀ', 'ł', 'ƚ', 'ȴ', 'ɫ', 'ɬ', 'ɭ', 'ⱡ', 'ℓ', '⒧'],\n",
    "    \"m\":['ｍ', 'ⓜ', '⒨'],\n",
    "    \"n\":['ո', 'ｎ', 'ⁿ', 'ñ', 'ń', 'ņ', 'ň', 'ŉ', 'ǹ', 'ȵ', 'η', 'ղ', 'ŋ', 'ⓝ', '⒩'],\n",
    "    \"o\":['ｏ', 'ℴ', 'ο', 'ό', 'ὀ', 'ὁ', 'ὂ', 'ὃ', 'ὄ', 'ὅ', 'ὸ', 'ό', 'о', 'ò', 'ó', 'ô', 'õ', 'ö', 'ō', 'ŏ', 'ő', 'ƍ', 'ơ', 'ǒ', 'ǫ', 'ǭ', 'ȍ', 'ȏ', 'ȫ', 'ȭ', 'ȯ', 'ȱ', 'ᴏ', 'օ', 'ⓞ', '⒪'],\n",
    "    \"p\":['ｐ', 'р', 'ƥ', 'ᴾ', 'ⓟ', '⒫'],\n",
    "    \"q\":['ԛ', 'ɋ', 'ⓠ', '⒬'],\n",
    "    \"r\":['ｒ', 'ŕ', 'ŗ', 'ř', 'ȑ', 'ȓ', 'ɾ', 'ⓡ', '⒭'],\n",
    "    \"s\":['ｓ', 'ˢ', 'ś', 'ŝ', 'ş', 'š', 'ș', 'ȿ', '⒮'],\n",
    "    \"t\":['ţ', 'ť', 'ŧ', 'ƫ', 'ƭ', 'ț', 'ȶ', 'ⱦ', 'ⓣ', '⒯'],\n",
    "    \"u\":['ｕ', 'ù', 'ú', 'û', 'ü', 'ũ', 'ū', 'ŭ', 'ů', 'ű', 'ų', 'ư', 'ǔ', 'ǖ', 'ǘ', 'ǚ', 'ǜ', 'ȕ', 'ȗ', 'ⓤ', '⒰'],\n",
    "    \"v\":['∨', 'ѵ', 'ν', 'ϋ', 'ύ', 'ὐ', 'ὑ', 'ὒ', 'ὓ', 'ὔ', 'ὕ', 'ὖ', 'ὗ', 'ⱱ', 'ⱴ', 'ⓥ', '⒱'],\n",
    "    \"w\":['ω', 'ѡ', 'ԝ', 'ŵ', 'ᵂ', 'ⱳ', 'ⓦ', '⒲'],\n",
    "    \"x\":['ｘ', 'ⓧ', '⒳'],\n",
    "    \"y\":['У', 'у', 'ў', 'Ӯ', 'ӯ', 'Ӱ', 'ӱ', 'Ӳ', 'ӳ', 'ý', 'ÿ', 'ŷ', 'ƴ', 'ȳ', 'ɏ', 'ⓨ', '⒴'],\n",
    "    \"z\":['ᶻ', 'ź', 'ż', 'ž', 'ƶ', 'ȥ', 'ʐ', 'ʑ', 'ⱬ', 'ⓩ', '⒵'],\n",
    "}\n",
    "line = \"ɟ\"\n",
    "for correct_form, wrong_forms in english_alphabet_replaces.items():\n",
    "    for wrong_character in wrong_forms:\n",
    "        line = line.replace(wrong_character, correct_form)\n",
    "line"
   ]
  },
  {
   "cell_type": "code",
   "execution_count": 936,
   "id": "e1576e8c",
   "metadata": {},
   "outputs": [
    {
     "data": {
      "text/plain": [
       "'محمد'"
      ]
     },
     "execution_count": 936,
     "metadata": {},
     "output_type": "execute_result"
    }
   ],
   "source": [
    " arabic_replaces = {\n",
    "    \"لا\":['ﻵ', 'ﻶ', 'ﻻ', 'ﻼ', 'ﻷ', 'ﻸ', 'ﻹ', 'ﻺ'],\n",
    "    \"صلی\":['ﷰ'],\n",
    "    \"قلی\":['ﷱ'],\n",
    "    \"الله\":['ﷲ'],\n",
    "    \"اکبر\":['ﷳ'],\n",
    "    \"محمد\":['ﷴ'],\n",
    "    \"صلی\":['ﷵ'],\n",
    "    \"رسول\":['ﷶ'],\n",
    "    \"علیه\":['ﷷ'],\n",
    "    \"وسلم\":['ﷸ'],\n",
    "    \"صلی\":['ﷹ'],\n",
    "    \"ریال\":['﷼'],\n",
    "    \"سنه\":['؁'],\n",
    "    \"صلی\":['ﷰ', 'ﷹ'],\n",
    "    \"صلعم\":['ﷵ'],\n",
    "    \"صلی الله علیه و سلم\":['ﷺ'],\n",
    "    \"جل جلاله\":['ﷻ'],\n",
    " }\n",
    "line = \"ﷴ\"\n",
    "for correct_form, wrong_forms in arabic_replaces.items():\n",
    "    for wrong_character in wrong_forms:\n",
    "        line = line.replace(wrong_character, correct_form)\n",
    "line"
   ]
  },
  {
   "cell_type": "code",
   "execution_count": 940,
   "id": "fccc3f67",
   "metadata": {},
   "outputs": [
    {
     "data": {
      "text/plain": [
       "'۸'"
      ]
     },
     "execution_count": 940,
     "metadata": {},
     "output_type": "execute_result"
    }
   ],
   "source": [
    "number_replaces={\n",
    "    \"۰\":['0', '٠', '𝟢', '𝟬'],\n",
    "    \"۱\":['1', '١', '𝟣', '𝟭', '⑴', '⒈', '⓵', '①', '❶', '𝟙', '𝟷', 'ı'],\n",
    "    \"۲\":['2', '٢', '𝟤', '𝟮', '⑵', '⒉', '⓶', '②', '❷', '²', '𝟐', '𝟸', '𝟚', 'ᒿ', 'շ'],\n",
    "    \"۳\":['3', '٣', '𝟥', '𝟯', '⑶', '⒊', '⓷', '③', '❸', '³', 'ვ'],\n",
    "    \"۴\":['4', '٤', '𝟦', '𝟰', '⑷', '⒋', '⓸', '④', '❹', '⁴'],\n",
    "    \"۵\":['5', '٥', '𝟧', '𝟱', '⑸', '⒌', '⓹', '⑤', '❺', '⁵'],\n",
    "    \"۶\":['6', '٦', '𝟨', '𝟲', '⑹', '⒍', '⓺', '⑥', '❻', '⁶'],\n",
    "    \"۷\":['7', '٧', '𝟩', '𝟳', '⑺', '⒎', '⓻', '⑦', '❼', '⁷'],\n",
    "    \"۸\":['8', '٨', '𝟪', '𝟴', '⑻', '⒏', '⓼', '⑧', '❽', '⁸'],\n",
    "    \"۹\":['9', '٩', '𝟫', '𝟵', '⑼', '⒐', '⓽', '⑨', '❾', '⁹'],\n",
    "    \"۱۰\":['⑽', '⒑', '⓾', '⑩'],\n",
    "    \"۱۱\":['⑾', '⒒', '⑪'],\n",
    "    \"۱۲\":['⑿', '⒓', '⑫'],\n",
    "    \"۱۳\":['⒀', '⒔', '⑬'],\n",
    "    \"۱۴\":['⒁', '⒕', '⑭'],\n",
    "    \"۱۵\":['⒂', '⒖', '⑮'],\n",
    "    \"۱۶\":['⒃', '⒗', '⑯'],\n",
    "    \"۱۷\":['⒄', '⒘', '⑰'],\n",
    "    \"۱۸\":['⒅', '⒙', '⑱'],\n",
    "    \"۱۹\":['⒆', '⒚', '⑲'],\n",
    "    \"۲۰\":['⒇', '⒛', '⑳'],\n",
    "}\n",
    "line = '8'\n",
    "for correct_form, wrong_forms in number_replaces.items():\n",
    "    for wrong_character in wrong_forms:\n",
    "        line = line.replace(wrong_character, correct_form)\n",
    "line"
   ]
  },
  {
   "cell_type": "code",
   "execution_count": 835,
   "id": "1e9d76a3",
   "metadata": {},
   "outputs": [
    {
     "data": {
      "text/plain": [
       "'۱/۴'"
      ]
     },
     "execution_count": 835,
     "metadata": {},
     "output_type": "execute_result"
    }
   ],
   "source": [
    "math_replaces = {\n",
    "    \"۱/۲\": \"½\",\n",
    "    \"۱/۳\": \"⅓\",\n",
    "    \"۲/۳\": \"⅔\",\n",
    "    \"۱/۴\": \"¼\",\n",
    "    \"۳/۴\": \"¾\",\n",
    "    \"۱/۸\": \"⅛\",\n",
    "    \"۳/۸\": \"⅜\",\n",
    "    \"۵/۸\": \"⅝\",\n",
    "    \"۷/۸\": \"⅞\"\n",
    "}\n",
    "line=\"¼\"\n",
    "for correct_form, wrong_forms in math_replaces.items():\n",
    "    line = line.replace(wrong_forms, correct_form)\n",
    "line"
   ]
  },
  {
   "cell_type": "code",
   "execution_count": 844,
   "id": "91efdd0a",
   "metadata": {},
   "outputs": [],
   "source": [
    "html_replaces ={\n",
    "        ' ': '&nbsp;',\n",
    "        '\"': '&quot;',\n",
    "        \"'\": '&apos;',\n",
    "        '<': '&lt;',\n",
    "        '>': '&gt;',\n",
    "        '&': '&amp;'\n",
    "    }"
   ]
  },
  {
   "cell_type": "code",
   "execution_count": 855,
   "id": "f726efe2",
   "metadata": {},
   "outputs": [
    {
     "data": {
      "text/plain": [
       "'&'"
      ]
     },
     "execution_count": 855,
     "metadata": {},
     "output_type": "execute_result"
    }
   ],
   "source": [
    "line = \"&amp;\"\n",
    "for correct_form, wrong_forms in html_replaces.items():\n",
    "    line = line.replace(wrong_forms, correct_form)\n",
    "line"
   ]
  },
  {
   "cell_type": "code",
   "execution_count": 914,
   "id": "3325ab40",
   "metadata": {},
   "outputs": [],
   "source": [
    "punctuation_replaces = {\n",
    "        '...': ['…'],\n",
    "        '|': ['▕', '❘', '❙', '❚', '▏', '│'],\n",
    "        '-': ['\\\\u00ad', 'ㅡ', '一', '—', '–', 'ー', '̶', 'ـ'],\n",
    "        '_': ['▁', '_', '̲'],\n",
    "        '?': ['❔', '؟', '�', '？', 'ʕ', 'ʔ'],\n",
    "        '!': ['❕', '！'],\n",
    "        '!?': ['⁉'],\n",
    "        '!!': ['‼'],\n",
    "        '%': ['℅','٪'],\n",
    "        '/': ['÷'],\n",
    "        '*': ['×'],\n",
    "        ':': ['：'],\n",
    "        ';': ['؛', '；'],\n",
    "        ',': ['،'],\n",
    "        '>': ['›'],\n",
    "        '<': ['‹', '＜'],\n",
    "        '«': ['《'],\n",
    "        '»': ['》'],\n",
    "        '.': ['•']\n",
    "    \n",
    "}"
   ]
  },
  {
   "cell_type": "code",
   "execution_count": 916,
   "id": "d072696e",
   "metadata": {},
   "outputs": [
    {
     "data": {
      "text/plain": [
       "'? ? ? ? ? ?'"
      ]
     },
     "execution_count": 916,
     "metadata": {},
     "output_type": "execute_result"
    }
   ],
   "source": [
    "line = \"❔ ؟ � ？ ʕ ʔ\"\n",
    "for correct_form, wrong_forms in punctuation_replaces.items():\n",
    "    for wrong_character in wrong_forms:\n",
    "        line = line.replace(wrong_character, correct_form)\n",
    "line"
   ]
  },
  {
   "cell_type": "code",
   "execution_count": 920,
   "id": "3b4aee36",
   "metadata": {},
   "outputs": [],
   "source": [
    "special_replaces = {\n",
    "    'TEL': ['℡'],\n",
    "    'AE': ['Ӕ', 'Ǣ', 'Ǽ', 'ᴁ'],\n",
    "    'CE': ['Œ', 'ɶ', '₠'],\n",
    "    'DZ': ['Ǳ', 'ǳ', 'Ǆ', 'ǆ'],\n",
    "    'Nj': ['Ǌ'],\n",
    "    'Rs': ['₨'],\n",
    "    'SM': ['℠'],\n",
    "    'TM': ['™'],\n",
    "    'ae': ['œ', 'æ', 'ǽ'],\n",
    "    'dz': ['ʣ','ʥ'],\n",
    "    'ffl': ['ﬄ'],\n",
    "    'ffi': ['ﬃ'],\n",
    "    'ff': ['ﬀ'],\n",
    "    'fl': ['ﬂ'],\n",
    "    'fi': ['ﬁ'],\n",
    "    'ij': ['ĳ'],\n",
    "    'lj': ['ǉ'],\n",
    "    'lz': ['ʫ'],\n",
    "    'nj': ['ǌ'],\n",
    "    'st': ['ﬆ'],\n",
    "    'tc': ['ʨ'],\n",
    "    'ts': ['ʦ']\n",
    "}"
   ]
  },
  {
   "cell_type": "code",
   "execution_count": 924,
   "id": "42d00498",
   "metadata": {},
   "outputs": [
    {
     "data": {
      "text/plain": [
       "'TEL'"
      ]
     },
     "execution_count": 924,
     "metadata": {},
     "output_type": "execute_result"
    }
   ],
   "source": [
    "line = \"℡\"\n",
    "for correct_form, wrong_forms in special_replaces.items():\n",
    "    for wrong_character in wrong_forms:\n",
    "        line = line.replace(wrong_character, correct_form)\n",
    "line"
   ]
  },
  {
   "cell_type": "code",
   "execution_count": null,
   "id": "b74e8b41",
   "metadata": {},
   "outputs": [],
   "source": []
  },
  {
   "cell_type": "code",
   "execution_count": null,
   "id": "c9f1e621",
   "metadata": {},
   "outputs": [],
   "source": []
  },
  {
   "cell_type": "code",
   "execution_count": null,
   "id": "4f11c7f5",
   "metadata": {},
   "outputs": [],
   "source": []
  },
  {
   "cell_type": "code",
   "execution_count": null,
   "id": "d1a84340",
   "metadata": {},
   "outputs": [],
   "source": []
  },
  {
   "cell_type": "code",
   "execution_count": null,
   "id": "a6c751b4",
   "metadata": {},
   "outputs": [],
   "source": []
  },
  {
   "cell_type": "code",
   "execution_count": null,
   "id": "fdd867ee",
   "metadata": {},
   "outputs": [],
   "source": []
  }
 ],
 "metadata": {
  "kernelspec": {
   "display_name": "Python 3",
   "language": "python",
   "name": "python3"
  },
  "language_info": {
   "codemirror_mode": {
    "name": "ipython",
    "version": 3
   },
   "file_extension": ".py",
   "mimetype": "text/x-python",
   "name": "python",
   "nbconvert_exporter": "python",
   "pygments_lexer": "ipython3",
   "version": "3.6.9"
  }
 },
 "nbformat": 4,
 "nbformat_minor": 5
}
