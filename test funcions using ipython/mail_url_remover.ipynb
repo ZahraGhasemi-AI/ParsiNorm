{
 "cells": [
  {
   "cell_type": "code",
   "execution_count": 14,
   "id": "dcc7173c",
   "metadata": {},
   "outputs": [],
   "source": [
    "from urlextract import URLExtract\n",
    "import re\n",
    "extractor = URLExtract()\n",
    "def remove_urls_emails(sentence):\n",
    "    urls = extractor.find_urls(sentence)\n",
    "    if urls:\n",
    "        for url in urls:\n",
    "            sentence = sentence.replace(url,\" \")\n",
    "    mails = re.findall('\\S+@\\S+', sentence) \n",
    "    if mails:\n",
    "         for mail in mails:\n",
    "            sentence = sentence.replace(mail,\"\")\n",
    "    return sentence"
   ]
  },
  {
   "cell_type": "code",
   "execution_count": 12,
   "id": "43274c39",
   "metadata": {},
   "outputs": [
    {
     "data": {
      "text/plain": [
       "' is a email address'"
      ]
     },
     "execution_count": 12,
     "metadata": {},
     "output_type": "execute_result"
    }
   ],
   "source": [
    "remove_urls_emails(\"romina.oji@ut.ac.ir is a email address\")"
   ]
  }
 ],
 "metadata": {
  "kernelspec": {
   "display_name": "Python 3",
   "language": "python",
   "name": "python3"
  },
  "language_info": {
   "codemirror_mode": {
    "name": "ipython",
    "version": 3
   },
   "file_extension": ".py",
   "mimetype": "text/x-python",
   "name": "python",
   "nbconvert_exporter": "python",
   "pygments_lexer": "ipython3",
   "version": "3.6.9"
  }
 },
 "nbformat": 4,
 "nbformat_minor": 5
}
